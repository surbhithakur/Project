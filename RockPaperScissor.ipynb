{
 "cells": [
  {
   "cell_type": "markdown",
   "metadata": {},
   "source": [
    "### Rock Paper Scissor Game"
   ]
  },
  {
   "cell_type": "code",
   "execution_count": 1,
   "metadata": {},
   "outputs": [],
   "source": [
    "import random"
   ]
  },
  {
   "cell_type": "code",
   "execution_count": 2,
   "metadata": {},
   "outputs": [
    {
     "name": "stdout",
     "output_type": "stream",
     "text": [
      "Enter input from ROCK,PAPER,SCISSORrock\n",
      "computer chooses paper\n",
      "Computer wins the game\n"
     ]
    }
   ],
   "source": [
    "user= input(\"Enter input from ROCK,PAPER,SCISSOR\")\n",
    "mylist=['rock','paper','scissor']\n",
    "computer = random.choice(mylist)\n",
    "print(\"computer chooses\",computer)\n",
    "if user == \"paper\" and computer == \"rock\":\n",
    "    print(\"User wins the game\")\n",
    "elif computer == \"paper\" and user ==\"rock\":\n",
    "    print(\"Computer wins the game\")\n",
    "elif user == \"rock\" and computer == \"scissor\":\n",
    "    print(\"User wins the game\")\n",
    "elif computer == \"rock\" and user ==\"scissor\":\n",
    "    print(\"Computer wins the game\")\n",
    "elif user == \"scissor\" and computer == \"paper\":\n",
    "    print(\"User wins the game\")\n",
    "elif computer == \"scissor\" and user ==\"paper\":\n",
    "    print(\"Computer wins the game\")\n",
    "else:\n",
    "    print(\"It is a tie\")"
   ]
  },
  {
   "cell_type": "code",
   "execution_count": null,
   "metadata": {},
   "outputs": [],
   "source": []
  }
 ],
 "metadata": {
  "kernelspec": {
   "display_name": "Python 3",
   "language": "python",
   "name": "python3"
  },
  "language_info": {
   "codemirror_mode": {
    "name": "ipython",
    "version": 3
   },
   "file_extension": ".py",
   "mimetype": "text/x-python",
   "name": "python",
   "nbconvert_exporter": "python",
   "pygments_lexer": "ipython3",
   "version": "3.7.4"
  }
 },
 "nbformat": 4,
 "nbformat_minor": 2
}
